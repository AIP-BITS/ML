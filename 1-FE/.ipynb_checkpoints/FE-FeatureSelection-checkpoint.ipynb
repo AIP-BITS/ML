{
 "cells": [
  {
   "cell_type": "markdown",
   "id": "0b5c62ac",
   "metadata": {},
   "source": [
    "# Installations"
   ]
  },
  {
   "cell_type": "code",
   "execution_count": null,
   "id": "e543dbec",
   "metadata": {
    "scrolled": false
   },
   "outputs": [],
   "source": [
    "!pip install -U scikit-learn\n",
    "\n",
    "!pip install -U pandas --quiet\n",
    "\n",
    "!pip install -U matplotlib --quiet"
   ]
  },
  {
   "cell_type": "markdown",
   "id": "a06bfe28",
   "metadata": {
    "heading_collapsed": true
   },
   "source": [
    "# Data Leak"
   ]
  },
  {
   "cell_type": "markdown",
   "id": "85ff1998",
   "metadata": {
    "heading_collapsed": true,
    "hidden": true
   },
   "source": [
    "## Avoid data leak"
   ]
  },
  {
   "cell_type": "code",
   "execution_count": 9,
   "id": "4571b21e",
   "metadata": {
    "hidden": true
   },
   "outputs": [
    {
     "name": "stdout",
     "output_type": "stream",
     "text": [
      "78.45454545454545\n"
     ]
    }
   ],
   "source": [
    "from sklearn.datasets import make_classification\n",
    "# define dataset\n",
    "X, y = make_classification(n_samples=10000, n_features=10, n_informative=5, n_redundant=5, random_state=42)\n",
    "\n",
    "from sklearn.model_selection import train_test_split\n",
    "X_train, X_test, y_train, y_test = train_test_split(X, y, test_size=0.33, random_state=1)\n",
    "\n",
    "from sklearn.preprocessing import MinMaxScaler\n",
    "scaler = MinMaxScaler()\n",
    "scaler.fit(X_train)\n",
    "X_train = scaler.transform(X_train)\n",
    "X_test = scaler.transform(X_test)\n",
    "\n",
    "#Train the model\n",
    "from sklearn.linear_model import LogisticRegression \n",
    "model = LogisticRegression()\n",
    "model.fit(X_train,y_train)\n",
    "\n",
    "#Evaluate on test data\n",
    "yhat = model.predict(X_test)\n",
    "\n",
    "#Evaluate model\n",
    "from sklearn.metrics import accuracy_score\n",
    "accuracy = accuracy_score(y_test, yhat)\n",
    "print(accuracy*100)"
   ]
  },
  {
   "cell_type": "markdown",
   "id": "9ba575d8",
   "metadata": {
    "hidden": true
   },
   "source": [
    "## Pipeline to avoid data leak"
   ]
  },
  {
   "cell_type": "code",
   "execution_count": 15,
   "id": "9d051450",
   "metadata": {
    "hidden": true
   },
   "outputs": [],
   "source": [
    "%reset -f "
   ]
  },
  {
   "cell_type": "code",
   "execution_count": 16,
   "id": "5a706b5c",
   "metadata": {
    "hidden": true
   },
   "outputs": [
    {
     "name": "stdout",
     "output_type": "stream",
     "text": [
      "Accuracy: 77.743 (1.296)\n"
     ]
    }
   ],
   "source": [
    "from sklearn.datasets import make_classification\n",
    "# define dataset\n",
    "X, y = make_classification(n_samples=10000, n_features=10, n_informative=5, n_redundant=5, random_state=42)\n",
    "\n",
    "import numpy as np\n",
    "from sklearn.pipeline import Pipeline\n",
    "from sklearn.preprocessing import MinMaxScaler\n",
    "from sklearn.linear_model import LogisticRegression\n",
    "\n",
    "# define the pipeline\n",
    "steps = list()\n",
    "steps.append(('scaler', MinMaxScaler()))\n",
    "steps.append(('model', LogisticRegression()))\n",
    "pipeline = Pipeline(steps=steps)\n",
    "\n",
    "from sklearn.model_selection import cross_val_score\n",
    "from sklearn.model_selection import RepeatedStratifiedKFold\n",
    "\n",
    "# define the evaluation procedure\n",
    "cv = RepeatedStratifiedKFold(n_splits=10, n_repeats=3, random_state=1)\n",
    "# evaluate the model using cross-validation\n",
    "scores = cross_val_score(pipeline, X, y, scoring='accuracy', cv=cv, n_jobs=-1)\n",
    "print('Accuracy: %.3f (%.3f)' % (np.mean(scores)*100, np.std(scores)*100))"
   ]
  },
  {
   "cell_type": "markdown",
   "id": "ca9ad979",
   "metadata": {},
   "source": [
    "# Feature Selection with Stats"
   ]
  },
  {
   "cell_type": "markdown",
   "id": "315972b9",
   "metadata": {
    "heading_collapsed": true
   },
   "source": [
    "## Numerical Features - Classification"
   ]
  },
  {
   "cell_type": "markdown",
   "id": "6e0d8139",
   "metadata": {
    "hidden": true
   },
   "source": [
    "### ANOVA F-Statistic. "
   ]
  },
  {
   "cell_type": "code",
   "execution_count": 30,
   "id": "2b9df0c6",
   "metadata": {
    "hidden": true
   },
   "outputs": [
    {
     "name": "stdout",
     "output_type": "stream",
     "text": [
      "Feature 0: 16.527385\n",
      "Feature 1: 131.325562\n",
      "Feature 2: 0.042371\n",
      "Feature 3: 1.415216\n",
      "Feature 4: 12.778966\n",
      "Feature 5: 49.209523\n",
      "Feature 6: 13.377142\n",
      "Feature 7: 25.126440\n"
     ]
    },
    {
     "data": {
      "image/png": "[encoded data removed]",
      "text/plain": [
       "<Figure size 432x288 with 1 Axes>"
      ]
     },
     "metadata": {
      "needs_background": "light"
     },
     "output_type": "display_data"
    }
   ],
   "source": [
    "%reset -f \n",
    "\n",
    "import pandas as pd \n",
    "import matplotlib.pyplot as plt\n",
    "\n",
    "data = pd.read_csv(\"https://raw.githubusercontent.com/AIP-codedb/public/main/data/pima-indians-diabetes.csv\",header=None)\n",
    "dataset = data.values\n",
    "X = dataset[:, :-1]\n",
    "y = dataset[:,-1]\n",
    "\n",
    "from sklearn.model_selection import train_test_split\n",
    "X_train, X_test, y_train, y_test = train_test_split(X, y, test_size=0.33, random_state=1)\n",
    "\n",
    "# feature selection\n",
    "from sklearn.feature_selection import SelectKBest\n",
    "from sklearn.feature_selection import f_classif\n",
    "fsAF = SelectKBest(score_func=f_classif, k=4) \n",
    "\n",
    "fsAF.fit(X_train, y_train)\n",
    "X_train_fsAF = fsAF.transform(X_train)\n",
    "X_test_fsAF = fsAF.transform(X_test)\n",
    "\n",
    "# what are scores for the features\n",
    "for i in range(len(fsAF.scores_)):\n",
    "    print('Feature %d: %f' % (i, fsAF.scores_[i]))\n",
    "\n",
    "# plot the scores\n",
    "plt.bar([i for i in range(len(fsAF.scores_))], fsAF.scores_)\n",
    "plt.show()"
   ]
  },
  {
   "cell_type": "markdown",
   "id": "8d2c9f38",
   "metadata": {
    "hidden": true
   },
   "source": [
    "#### Full data training"
   ]
  },
  {
   "cell_type": "code",
   "execution_count": 26,
   "id": "e69e1126",
   "metadata": {
    "hidden": true
   },
   "outputs": [
    {
     "name": "stdout",
     "output_type": "stream",
     "text": [
      "77.55905511811024\n"
     ]
    }
   ],
   "source": [
    "from sklearn.linear_model import LogisticRegression\n",
    "from sklearn.metrics import accuracy_score\n",
    "\n",
    "# fit the model\n",
    "model = LogisticRegression(solver='liblinear')\n",
    "model.fit(X_train, y_train)\n",
    "\n",
    "# evaluate the model\n",
    "yhat = model.predict(X_test)\n",
    "# evaluate predictions\n",
    "accuracy = accuracy_score(y_test, yhat)\n",
    "print(accuracy*100)"
   ]
  },
  {
   "cell_type": "markdown",
   "id": "e05faf4d",
   "metadata": {
    "hidden": true
   },
   "source": [
    "#### Select feature training"
   ]
  },
  {
   "cell_type": "code",
   "execution_count": 27,
   "id": "8a41c880",
   "metadata": {
    "hidden": true
   },
   "outputs": [
    {
     "name": "stdout",
     "output_type": "stream",
     "text": [
      "78.74015748031496\n"
     ]
    }
   ],
   "source": [
    "from sklearn.linear_model import LogisticRegression\n",
    "from sklearn.metrics import accuracy_score\n",
    "\n",
    "# fit the model\n",
    "model = LogisticRegression(solver='liblinear')\n",
    "model.fit(X_train_fsAF, y_train)\n",
    "\n",
    "# evaluate the model\n",
    "yhat = model.predict(X_test_fsAF)\n",
    "# evaluate predictions\n",
    "accuracy = accuracy_score(y_test, yhat)\n",
    "print(accuracy*100)"
   ]
  },
  {
   "cell_type": "markdown",
   "id": "0b2d11b9",
   "metadata": {
    "hidden": true
   },
   "source": [
    "### Mutual Information Statistics"
   ]
  },
  {
   "cell_type": "code",
   "execution_count": 34,
   "id": "0310fa53",
   "metadata": {
    "hidden": true
   },
   "outputs": [
    {
     "name": "stdout",
     "output_type": "stream",
     "text": [
      "Feature 0: 0.009929\n",
      "Feature 1: 0.100326\n",
      "Feature 2: 0.009619\n",
      "Feature 3: 0.000000\n",
      "Feature 4: 0.017367\n",
      "Feature 5: 0.080869\n",
      "Feature 6: 0.006098\n",
      "Feature 7: 0.047776\n"
     ]
    },
    {
     "data": {
      "image/png": "[encoded data removed]",
      "text/plain": [
       "<Figure size 432x288 with 1 Axes>"
      ]
     },
     "metadata": {
      "needs_background": "light"
     },
     "output_type": "display_data"
    }
   ],
   "source": [
    "%reset -f \n",
    "\n",
    "import pandas as pd \n",
    "import matplotlib.pyplot as plt\n",
    "\n",
    "data = pd.read_csv(\"https://raw.githubusercontent.com/AIP-codedb/public/main/data/pima-indians-diabetes.csv\",header=None)\n",
    "dataset = data.values\n",
    "X = dataset[:, :-1]\n",
    "y = dataset[:,-1]\n",
    "\n",
    "from sklearn.model_selection import train_test_split\n",
    "X_train, X_test, y_train, y_test = train_test_split(X, y, test_size=0.33, random_state=1)\n",
    "\n",
    "# feature selection\n",
    "from sklearn.feature_selection import SelectKBest\n",
    "from sklearn.feature_selection import mutual_info_classif\n",
    "fsAF = SelectKBest(score_func=mutual_info_classif, k=4) \n",
    "\n",
    "fsAF.fit(X_train, y_train)\n",
    "X_train_fsAF = fsAF.transform(X_train)\n",
    "X_test_fsAF = fsAF.transform(X_test)\n",
    "\n",
    "# what are scores for the features\n",
    "for i in range(len(fsAF.scores_)):\n",
    "    print('Feature %d: %f' % (i, fsAF.scores_[i]))\n",
    "\n",
    "# plot the scores\n",
    "plt.bar([i for i in range(len(fsAF.scores_))], fsAF.scores_)\n",
    "plt.show()"
   ]
  },
  {
   "cell_type": "markdown",
   "id": "5db95f8a",
   "metadata": {
    "heading_collapsed": true,
    "hidden": true
   },
   "source": [
    "#### Full data training"
   ]
  },
  {
   "cell_type": "code",
   "execution_count": 35,
   "id": "31343b3a",
   "metadata": {
    "hidden": true
   },
   "outputs": [
    {
     "name": "stdout",
     "output_type": "stream",
     "text": [
      "77.55905511811024\n"
     ]
    }
   ],
   "source": [
    "from sklearn.linear_model import LogisticRegression\n",
    "from sklearn.metrics import accuracy_score\n",
    "\n",
    "# fit the model\n",
    "model = LogisticRegression(solver='liblinear')\n",
    "model.fit(X_train, y_train)\n",
    "\n",
    "# evaluate the model\n",
    "yhat = model.predict(X_test)\n",
    "# evaluate predictions\n",
    "accuracy = accuracy_score(y_test, yhat)\n",
    "print(accuracy*100)"
   ]
  },
  {
   "cell_type": "code",
   "execution_count": 36,
   "id": "181f59a5",
   "metadata": {
    "hidden": true
   },
   "outputs": [
    {
     "name": "stdout",
     "output_type": "stream",
     "text": [
      "77.55905511811024\n"
     ]
    }
   ],
   "source": [
    "from sklearn.linear_model import LogisticRegression\n",
    "from sklearn.metrics import accuracy_score\n",
    "\n",
    "# fit the model\n",
    "model = LogisticRegression(solver='liblinear')\n",
    "model.fit(X_train_fsAF, y_train)\n",
    "\n",
    "# evaluate the model\n",
    "yhat = model.predict(X_test_fsAF)\n",
    "# evaluate predictions\n",
    "accuracy = accuracy_score(y_test, yhat)\n",
    "print(accuracy*100)"
   ]
  },
  {
   "cell_type": "markdown",
   "id": "51b12ac3",
   "metadata": {
    "heading_collapsed": true
   },
   "source": [
    "## Categorical Features - Classification"
   ]
  },
  {
   "cell_type": "markdown",
   "id": "0a86027a",
   "metadata": {
    "heading_collapsed": true,
    "hidden": true
   },
   "source": [
    "### Chi-Squared Statistic"
   ]
  },
  {
   "cell_type": "code",
   "execution_count": 2,
   "id": "b59c0b06",
   "metadata": {
    "hidden": true
   },
   "outputs": [
    {
     "name": "stdout",
     "output_type": "stream",
     "text": [
      "Feature 0: 0.472553\n",
      "Feature 1: 0.029193\n",
      "Feature 2: 2.137658\n",
      "Feature 3: 29.381059\n",
      "Feature 4: 8.222601\n",
      "Feature 5: 8.100183\n",
      "Feature 6: 1.273822\n",
      "Feature 7: 0.950682\n",
      "Feature 8: 3.699989\n"
     ]
    },
    {
     "data": {
      "image/png": "[encoded data removed]",
      "text/plain": [
       "<Figure size 432x288 with 1 Axes>"
      ]
     },
     "metadata": {
      "needs_background": "light"
     },
     "output_type": "display_data"
    }
   ],
   "source": [
    "%reset -f \n",
    "\n",
    "import pandas as pd\n",
    "import numpy as np \n",
    "import matplotlib.pyplot as plt \n",
    "\n",
    "data = pd.read_csv(\"https://raw.githubusercontent.com/AIP-codedb/public/main/data/breast-cancer.csv\",header=None)\n",
    "dataset = data.values\n",
    "X = dataset[:, :-1]\n",
    "y = dataset[:,-1]\n",
    "\n",
    "# format all fields as string\n",
    "X = X.astype(str)\n",
    "\n",
    "from sklearn.model_selection import train_test_split\n",
    "X_train, X_test, y_train, y_test = train_test_split(X, y, test_size=0.33, random_state=1)\n",
    "\n",
    "# prepare input data\n",
    "from sklearn.preprocessing import OrdinalEncoder\n",
    "oe = OrdinalEncoder()\n",
    "oe.fit(X_train)\n",
    "X_train_enc = oe.transform(X_train)\n",
    "X_test_enc = oe.transform(X_test)\n",
    "\n",
    "from sklearn.preprocessing import LabelEncoder\n",
    "# prepare output data\n",
    "le = LabelEncoder()\n",
    "le.fit(y_train)\n",
    "y_train_enc = le.transform(y_train)\n",
    "y_test_enc = le.transform(y_test)\n",
    "\n",
    "# feature selection\n",
    "from sklearn.feature_selection import SelectKBest\n",
    "from sklearn.feature_selection import chi2\n",
    "fschi2 = SelectKBest(score_func=chi2, k=6)\n",
    "\n",
    "fschi2.fit(X_train_enc, y_train_enc)\n",
    "X_train_fschi2 = fschi2.transform(X_train_enc)\n",
    "X_test_fschi2 = fschi2.transform(X_test_enc)\n",
    "\n",
    "# what are scores for the features\n",
    "for i in range(len(fschi2.scores_)):\n",
    "    print('Feature %d: %f' % (i, fschi2.scores_[i]))\n",
    "\n",
    "# plot the scores\n",
    "plt.bar([i for i in range(len(fschi2.scores_))], fschi2.scores_)\n",
    "plt.show()"
   ]
  },
  {
   "cell_type": "markdown",
   "id": "6b1ac30a",
   "metadata": {
    "hidden": true
   },
   "source": [
    "#### Full data Training"
   ]
  },
  {
   "cell_type": "code",
   "execution_count": 3,
   "id": "1384dd57",
   "metadata": {
    "hidden": true
   },
   "outputs": [
    {
     "name": "stdout",
     "output_type": "stream",
     "text": [
      "75.78947368421053\n"
     ]
    }
   ],
   "source": [
    "from sklearn.linear_model import LogisticRegression\n",
    "from sklearn.metrics import accuracy_score\n",
    "\n",
    "# fit the model\n",
    "model = LogisticRegression(solver='lbfgs')\n",
    "model.fit(X_train_enc, y_train_enc)\n",
    "\n",
    "# evaluate the model\n",
    "yhat = model.predict(X_test_enc)\n",
    "# evaluate predictions\n",
    "accuracy = accuracy_score(y_test_enc, yhat)\n",
    "print(accuracy*100)"
   ]
  },
  {
   "cell_type": "markdown",
   "id": "4e2ee4bf",
   "metadata": {
    "hidden": true
   },
   "source": [
    "#### Select Feature Training"
   ]
  },
  {
   "cell_type": "code",
   "execution_count": 4,
   "id": "62c33e8d",
   "metadata": {
    "hidden": true
   },
   "outputs": [
    {
     "name": "stdout",
     "output_type": "stream",
     "text": [
      "74.73684210526315\n"
     ]
    }
   ],
   "source": [
    "from sklearn.linear_model import LogisticRegression\n",
    "from sklearn.metrics import accuracy_score\n",
    "\n",
    "# fit the model\n",
    "model = LogisticRegression(solver='lbfgs')\n",
    "model.fit(X_train_fschi2, y_train_enc)\n",
    "\n",
    "# evaluate the model\n",
    "yhat = model.predict(X_test_fschi2)\n",
    "# evaluate predictions\n",
    "accuracy = accuracy_score(y_test_enc, yhat)\n",
    "print(accuracy*100)"
   ]
  },
  {
   "cell_type": "markdown",
   "id": "41d2c798",
   "metadata": {
    "hidden": true
   },
   "source": [
    "### Mutual Information Statistic"
   ]
  },
  {
   "cell_type": "code",
   "execution_count": 5,
   "id": "fe8df21b",
   "metadata": {
    "hidden": true
   },
   "outputs": [
    {
     "name": "stdout",
     "output_type": "stream",
     "text": [
      "Feature 0: 0.025391\n",
      "Feature 1: 0.000913\n",
      "Feature 2: 0.043104\n",
      "Feature 3: 0.027885\n",
      "Feature 4: 0.023301\n",
      "Feature 5: 0.049270\n",
      "Feature 6: 0.000000\n",
      "Feature 7: 0.018315\n",
      "Feature 8: 0.000000\n"
     ]
    },
    {
     "data": {
      "image/png": "[encoded data removed]",
      "text/plain": [
       "<Figure size 432x288 with 1 Axes>"
      ]
     },
     "metadata": {
      "needs_background": "light"
     },
     "output_type": "display_data"
    }
   ],
   "source": [
    "%reset -f \n",
    "\n",
    "import pandas as pd\n",
    "import numpy as np \n",
    "import matplotlib.pyplot as plt \n",
    "\n",
    "data = pd.read_csv(\"https://raw.githubusercontent.com/AIP-codedb/public/main/data/breast-cancer.csv\",header=None)\n",
    "dataset = data.values\n",
    "X = dataset[:, :-1]\n",
    "y = dataset[:,-1]\n",
    "\n",
    "# format all fields as string\n",
    "X = X.astype(str)\n",
    "\n",
    "from sklearn.model_selection import train_test_split\n",
    "X_train, X_test, y_train, y_test = train_test_split(X, y, test_size=0.33, random_state=1)\n",
    "\n",
    "# prepare input data\n",
    "from sklearn.preprocessing import OrdinalEncoder\n",
    "oe = OrdinalEncoder()\n",
    "oe.fit(X_train)\n",
    "X_train_enc = oe.transform(X_train)\n",
    "X_test_enc = oe.transform(X_test)\n",
    "\n",
    "from sklearn.preprocessing import LabelEncoder\n",
    "# prepare output data\n",
    "le = LabelEncoder()\n",
    "le.fit(y_train)\n",
    "y_train_enc = le.transform(y_train)\n",
    "y_test_enc = le.transform(y_test)\n",
    "\n",
    "# feature selection\n",
    "from sklearn.feature_selection import SelectKBest\n",
    "from sklearn.feature_selection import mutual_info_classif\n",
    "fschi2 = SelectKBest(score_func=mutual_info_classif, k=6)\n",
    "\n",
    "fschi2.fit(X_train_enc, y_train_enc)\n",
    "X_train_fschi2 = fschi2.transform(X_train_enc)\n",
    "X_test_fschi2 = fschi2.transform(X_test_enc)\n",
    "\n",
    "# what are scores for the features\n",
    "for i in range(len(fschi2.scores_)):\n",
    "    print('Feature %d: %f' % (i, fschi2.scores_[i]))\n",
    "\n",
    "# plot the scores\n",
    "plt.bar([i for i in range(len(fschi2.scores_))], fschi2.scores_)\n",
    "plt.show()"
   ]
  },
  {
   "cell_type": "markdown",
   "id": "d157864e",
   "metadata": {
    "hidden": true
   },
   "source": [
    "#### Full Data Training"
   ]
  },
  {
   "cell_type": "code",
   "execution_count": 6,
   "id": "2b1f63ca",
   "metadata": {
    "hidden": true
   },
   "outputs": [
    {
     "name": "stdout",
     "output_type": "stream",
     "text": [
      "75.78947368421053\n"
     ]
    }
   ],
   "source": [
    "from sklearn.linear_model import LogisticRegression\n",
    "from sklearn.metrics import accuracy_score\n",
    "\n",
    "# fit the model\n",
    "model = LogisticRegression(solver='lbfgs')\n",
    "model.fit(X_train_enc, y_train_enc)\n",
    "\n",
    "# evaluate the model\n",
    "yhat = model.predict(X_test_enc)\n",
    "# evaluate predictions\n",
    "accuracy = accuracy_score(y_test_enc, yhat)\n",
    "print(accuracy*100)"
   ]
  },
  {
   "cell_type": "markdown",
   "id": "6bf38d6f",
   "metadata": {
    "hidden": true
   },
   "source": [
    "#### Select Feature Training"
   ]
  },
  {
   "cell_type": "code",
   "execution_count": 7,
   "id": "53415e5e",
   "metadata": {
    "hidden": true
   },
   "outputs": [
    {
     "name": "stdout",
     "output_type": "stream",
     "text": [
      "73.68421052631578\n"
     ]
    }
   ],
   "source": [
    "from sklearn.linear_model import LogisticRegression\n",
    "from sklearn.metrics import accuracy_score\n",
    "\n",
    "# fit the model\n",
    "model = LogisticRegression(solver='lbfgs')\n",
    "model.fit(X_train_fschi2, y_train_enc)\n",
    "\n",
    "# evaluate the model\n",
    "yhat = model.predict(X_test_fschi2)\n",
    "# evaluate predictions\n",
    "accuracy = accuracy_score(y_test_enc, yhat)\n",
    "print(accuracy*100)"
   ]
  },
  {
   "cell_type": "markdown",
   "id": "0551d37c",
   "metadata": {
    "heading_collapsed": true
   },
   "source": [
    "## Numerical Feature - Regression"
   ]
  },
  {
   "cell_type": "markdown",
   "id": "495af858",
   "metadata": {
    "heading_collapsed": true,
    "hidden": true
   },
   "source": [
    "### Correlation Statistics"
   ]
  },
  {
   "cell_type": "code",
   "execution_count": 8,
   "id": "0cad12f8",
   "metadata": {
    "hidden": true
   },
   "outputs": [],
   "source": [
    "%reset -f\n",
    "\n",
    "# load the dataset \n",
    "from sklearn.datasets import make_regression \n",
    "X, y = make_regression(n_samples=1000, n_features=100, n_informative=10, noise=0.1, random_state=1)\n",
    "\n",
    "# split into train and test sets \n",
    "from sklearn.model_selection import train_test_split \n",
    "X_train, X_test, y_train, y_test = train_test_split(X, y, test_size=0.33, random_state=1) \n",
    "\n",
    "# feature selection\n",
    "from sklearn.feature_selection import SelectKBest\n",
    "from sklearn.feature_selection import f_regression\n",
    "\n",
    "fs_corr = SelectKBest(score_func=f_regression, k=70)\n",
    "fs_corr.fit(X_train, y_train)\n",
    "X_train_fs_corr = fs_corr.transform(X_train)\n",
    "X_test_fs_corr = fs_corr.transform(X_test)"
   ]
  },
  {
   "cell_type": "markdown",
   "id": "15f3aa91",
   "metadata": {
    "hidden": true
   },
   "source": [
    "#### Full Data Training"
   ]
  },
  {
   "cell_type": "code",
   "execution_count": 9,
   "id": "76ef6c22",
   "metadata": {
    "hidden": true
   },
   "outputs": [
    {
     "name": "stdout",
     "output_type": "stream",
     "text": [
      "0.08569191074141677\n"
     ]
    }
   ],
   "source": [
    "# fit the model \n",
    "from sklearn.linear_model import LinearRegression \n",
    "model = LinearRegression() \n",
    "model.fit(X_train, y_train) \n",
    "\n",
    "# evaluate the model \n",
    "from sklearn.metrics import mean_absolute_error\n",
    "yhat = model.predict(X_test) \n",
    "\n",
    "# evaluate predictions \n",
    "mae = mean_absolute_error(y_test, yhat) \n",
    "print(mae)"
   ]
  },
  {
   "cell_type": "markdown",
   "id": "42dfade5",
   "metadata": {
    "hidden": true
   },
   "source": [
    "#### Select Feature Training"
   ]
  },
  {
   "cell_type": "code",
   "execution_count": 10,
   "id": "42e204c3",
   "metadata": {
    "hidden": true
   },
   "outputs": [
    {
     "name": "stdout",
     "output_type": "stream",
     "text": [
      "0.08245530329045198\n"
     ]
    }
   ],
   "source": [
    "# fit the model \n",
    "model = LinearRegression() \n",
    "model.fit(X_train_fs_corr, y_train) \n",
    "# evaluate the model \n",
    "\n",
    "yhat = model.predict(X_test_fs_corr) \n",
    "# evaluate predictions \n",
    "mae = mean_absolute_error(y_test, yhat) \n",
    "print(mae)"
   ]
  },
  {
   "cell_type": "markdown",
   "id": "e69f262a",
   "metadata": {
    "heading_collapsed": true,
    "hidden": true
   },
   "source": [
    "### Mutual Information Statistics"
   ]
  },
  {
   "cell_type": "code",
   "execution_count": 11,
   "id": "56efe490",
   "metadata": {
    "hidden": true
   },
   "outputs": [],
   "source": [
    "%reset -f\n",
    "\n",
    "# load the dataset \n",
    "from sklearn.datasets import make_regression \n",
    "X, y = make_regression(n_samples=1000, n_features=100, n_informative=10, noise=0.1, random_state=1)\n",
    "\n",
    "# split into train and test sets \n",
    "from sklearn.model_selection import train_test_split \n",
    "X_train, X_test, y_train, y_test = train_test_split(X, y, test_size=0.33, random_state=1) \n",
    "\n",
    "# feature selection\n",
    "from sklearn.feature_selection import SelectKBest\n",
    "from sklearn.feature_selection import mutual_info_regression\n",
    "\n",
    "fs_corr = SelectKBest(score_func=mutual_info_regression, k=70)\n",
    "fs_corr.fit(X_train, y_train)\n",
    "X_train_fs_corr = fs_corr.transform(X_train)\n",
    "X_test_fs_corr = fs_corr.transform(X_test)"
   ]
  },
  {
   "cell_type": "markdown",
   "id": "4e947098",
   "metadata": {
    "hidden": true
   },
   "source": [
    "#### Full Data Training"
   ]
  },
  {
   "cell_type": "code",
   "execution_count": 12,
   "id": "8bf30088",
   "metadata": {
    "hidden": true
   },
   "outputs": [
    {
     "name": "stdout",
     "output_type": "stream",
     "text": [
      "0.08569191074141677\n"
     ]
    }
   ],
   "source": [
    "# fit the model \n",
    "from sklearn.linear_model import LinearRegression \n",
    "model = LinearRegression() \n",
    "model.fit(X_train, y_train) \n",
    "\n",
    "# evaluate the model \n",
    "from sklearn.metrics import mean_absolute_error\n",
    "yhat = model.predict(X_test) \n",
    "\n",
    "# evaluate predictions \n",
    "mae = mean_absolute_error(y_test, yhat) \n",
    "print(mae)"
   ]
  },
  {
   "cell_type": "markdown",
   "id": "5eb59be3",
   "metadata": {
    "hidden": true
   },
   "source": [
    "#### Select Feature Training"
   ]
  },
  {
   "cell_type": "code",
   "execution_count": 13,
   "id": "73d12b46",
   "metadata": {
    "hidden": true
   },
   "outputs": [
    {
     "name": "stdout",
     "output_type": "stream",
     "text": [
      "0.08256189653227453\n"
     ]
    }
   ],
   "source": [
    "# fit the model \n",
    "model = LinearRegression() \n",
    "model.fit(X_train_fs_corr, y_train) \n",
    "# evaluate the model \n",
    "\n",
    "yhat = model.predict(X_test_fs_corr) \n",
    "# evaluate predictions \n",
    "mae = mean_absolute_error(y_test, yhat) \n",
    "print(mae)"
   ]
  },
  {
   "cell_type": "markdown",
   "id": "525b2769",
   "metadata": {},
   "source": [
    "# Feature Selection with RFE"
   ]
  },
  {
   "cell_type": "markdown",
   "id": "482150a0",
   "metadata": {
    "heading_collapsed": true
   },
   "source": [
    "### RFE"
   ]
  },
  {
   "cell_type": "code",
   "execution_count": 14,
   "id": "e91d7792",
   "metadata": {
    "hidden": true
   },
   "outputs": [
    {
     "name": "stdout",
     "output_type": "stream",
     "text": [
      "accuracy_score on training data:  0.7774666666666666\n",
      "accuracy_score on test data:  0.776\n",
      "Column: 0, Selected=True, Rank: 1\n",
      "Column: 1, Selected=True, Rank: 1\n",
      "Column: 2, Selected=False, Rank: 6\n",
      "Column: 3, Selected=False, Rank: 2\n",
      "Column: 4, Selected=True, Rank: 1\n",
      "Column: 5, Selected=False, Rank: 4\n",
      "Column: 6, Selected=False, Rank: 5\n",
      "Column: 7, Selected=True, Rank: 1\n",
      "Column: 8, Selected=True, Rank: 1\n",
      "Column: 9, Selected=False, Rank: 3\n",
      "accuracy_score on training data:  0.7774666666666666\n",
      "accuracy_score on test data:  0.7752\n"
     ]
    }
   ],
   "source": [
    "# report which features were selected by RFE\n",
    "from sklearn.datasets import make_classification\n",
    "# define dataset\n",
    "X, y = make_classification(n_samples=10000, n_features=10, n_informative=5, n_redundant=5, random_state=42)\n",
    "\n",
    "from sklearn.model_selection import train_test_split\n",
    "X_train, X_test, y_train, y_test = train_test_split(X, y, test_size=0.25, random_state=42)\n",
    "\n",
    "from sklearn.preprocessing import MinMaxScaler\n",
    "scaler = MinMaxScaler()\n",
    "scaler.fit(X_train)\n",
    "\n",
    "X_train = scaler.transform(X_train)\n",
    "# scale the test dataset : only transform to avoid data leak\n",
    "X_test = scaler.transform(X_test)\n",
    "\n",
    "from sklearn.linear_model import LogisticRegression\n",
    "clf = LogisticRegression()\n",
    "clf.fit(X_train,y_train)\n",
    "\n",
    "from sklearn.metrics import accuracy_score\n",
    "pred_train=clf.predict(X_train)\n",
    "print('accuracy_score on training data: ',accuracy_score(y_train,pred_train))\n",
    "\n",
    "pred_test=clf.predict(X_test)\n",
    "print('accuracy_score on test data: ',accuracy_score(y_test,pred_test))\n",
    "\n",
    "# define RFE\n",
    "from sklearn.feature_selection import RFE\n",
    "clf = RFE(estimator=LogisticRegression(), n_features_to_select=5)\n",
    "# fit RFE\n",
    "clf.fit(X_train,y_train)\n",
    "# summarize all features\n",
    "for i in range(X.shape[1]):\n",
    "\tprint('Column: %d, Selected=%s, Rank: %d' % (i, clf.support_[i], clf.ranking_[i]))\n",
    "\n",
    "from sklearn.metrics import accuracy_score\n",
    "pred_train=clf.predict(X_train)\n",
    "print('accuracy_score on training data: ',accuracy_score(y_train,pred_train))\n",
    "\n",
    "pred_test=clf.predict(X_test)\n",
    "print('accuracy_score on test data: ',accuracy_score(y_test,pred_test))"
   ]
  },
  {
   "cell_type": "markdown",
   "id": "b3b7a600",
   "metadata": {
    "heading_collapsed": true
   },
   "source": [
    "### Automatic RFE"
   ]
  },
  {
   "cell_type": "code",
   "execution_count": 15,
   "id": "072f9fae",
   "metadata": {
    "hidden": true
   },
   "outputs": [
    {
     "name": "stdout",
     "output_type": "stream",
     "text": [
      "accuracy_score on training data:  0.7774666666666666\n",
      "accuracy_score on test data:  0.776\n",
      "Column: 0, Selected=True, Rank: 1\n",
      "Column: 1, Selected=True, Rank: 1\n",
      "Column: 2, Selected=False, Rank: 4\n",
      "Column: 3, Selected=True, Rank: 1\n",
      "Column: 4, Selected=True, Rank: 1\n",
      "Column: 5, Selected=False, Rank: 2\n",
      "Column: 6, Selected=False, Rank: 3\n",
      "Column: 7, Selected=True, Rank: 1\n",
      "Column: 8, Selected=True, Rank: 1\n",
      "Column: 9, Selected=True, Rank: 1\n",
      "accuracy_score on training data:  0.7788\n",
      "accuracy_score on test data:  0.774\n"
     ]
    }
   ],
   "source": [
    "# report which features were selected by RFE\n",
    "from sklearn.datasets import make_classification\n",
    "from sklearn.feature_selection import RFECV\n",
    "# define dataset\n",
    "X, y = make_classification(n_samples=10000, n_features=10, n_informative=5, n_redundant=5, random_state=42)\n",
    "\n",
    "from sklearn.model_selection import train_test_split\n",
    "X_train, X_test, y_train, y_test = train_test_split(X, y, test_size=0.25, random_state=42)\n",
    "\n",
    "from sklearn.preprocessing import MinMaxScaler\n",
    "scaler = MinMaxScaler()\n",
    "scaler.fit(X_train)\n",
    "\n",
    "X_train = scaler.transform(X_train)\n",
    "# scale the test dataset : only transform to avoid data leak\n",
    "X_test = scaler.transform(X_test)\n",
    "\n",
    "from sklearn.linear_model import LogisticRegression\n",
    "clf = LogisticRegression()\n",
    "clf.fit(X_train,y_train)\n",
    "\n",
    "from sklearn.metrics import accuracy_score\n",
    "pred_train=clf.predict(X_train)\n",
    "print('accuracy_score on training data: ',accuracy_score(y_train,pred_train))\n",
    "\n",
    "pred_test=clf.predict(X_test)\n",
    "print('accuracy_score on test data: ',accuracy_score(y_test,pred_test))\n",
    "\n",
    "# define RFE\n",
    "from sklearn.feature_selection import RFECV\n",
    "clf = RFECV(estimator=LogisticRegression())\n",
    "# fit RFE\n",
    "clf.fit(X_train,y_train)\n",
    "# summarize all features\n",
    "for i in range(X.shape[1]):\n",
    "\tprint('Column: %d, Selected=%s, Rank: %d' % (i, clf.support_[i], clf.ranking_[i]))\n",
    "\n",
    "from sklearn.metrics import accuracy_score\n",
    "pred_train=clf.predict(X_train)\n",
    "print('accuracy_score on training data: ',accuracy_score(y_train,pred_train))\n",
    "\n",
    "pred_test=clf.predict(X_test)\n",
    "print('accuracy_score on test data: ',accuracy_score(y_test,pred_test))"
   ]
  },
  {
   "cell_type": "code",
   "execution_count": null,
   "id": "c7e9d82c",
   "metadata": {
    "hidden": true
   },
   "outputs": [],
   "source": []
  }
 ],
 "metadata": {
  "kernelspec": {
   "display_name": "Python 3 (ipykernel)",
   "language": "python",
   "name": "python3"
  },
  "language_info": {
   "codemirror_mode": {
    "name": "ipython",
    "version": 3
   },
   "file_extension": ".py",
   "mimetype": "text/x-python",
   "name": "python",
   "nbconvert_exporter": "python",
   "pygments_lexer": "ipython3",
   "version": "3.10.4"
  },
  "toc": {
   "base_numbering": 1,
   "nav_menu": {},
   "number_sections": true,
   "sideBar": true,
   "skip_h1_title": false,
   "title_cell": "Table of Contents",
   "title_sidebar": "Contents",
   "toc_cell": false,
   "toc_position": {
    "height": "815px",
    "left": "1429px",
    "top": "169.133px",
    "width": "313.4px"
   },
   "toc_section_display": true,
   "toc_window_display": true
  }
 },
 "nbformat": 4,
 "nbformat_minor": 5
}
