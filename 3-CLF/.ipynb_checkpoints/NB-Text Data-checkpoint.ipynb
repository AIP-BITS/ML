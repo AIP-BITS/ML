{
 "cells": [
  {
   "cell_type": "code",
   "execution_count": 21,
   "id": "6517838c",
   "metadata": {},
   "outputs": [],
   "source": [
    "import pandas as pd \n",
    "import numpy as np \n",
    "df = pd.read_csv(\"https://raw.githubusercontent.com/AIP-BITS/ML-CISCO/main/data/news-group.csv\")"
   ]
  },
  {
   "cell_type": "code",
   "execution_count": 5,
   "id": "619bcf98",
   "metadata": {},
   "outputs": [
    {
     "data": {
      "text/plain": [
       "Index(['data', 'target'], dtype='object')"
      ]
     },
     "execution_count": 5,
     "metadata": {},
     "output_type": "execute_result"
    }
   ],
   "source": [
    "df.columns"
   ]
  },
  {
   "cell_type": "code",
   "execution_count": 7,
   "id": "eb21ec0f",
   "metadata": {},
   "outputs": [],
   "source": [
    "X = df.data\n",
    "y = df.target"
   ]
  },
  {
   "cell_type": "code",
   "execution_count": 8,
   "id": "2e610f3f",
   "metadata": {},
   "outputs": [],
   "source": [
    "from sklearn.model_selection import train_test_split\n",
    "X_train, X_test, y_train, y_test = train_test_split(X, y, test_size=.20)"
   ]
  },
  {
   "cell_type": "code",
   "execution_count": 10,
   "id": "19c1b709",
   "metadata": {},
   "outputs": [],
   "source": [
    "from sklearn.feature_extraction.text import TfidfVectorizer\n",
    "from sklearn.feature_extraction.text import HashingVectorizer\n",
    "\n",
    "USE_HASHING=False\n",
    "\n",
    "if USE_HASHING:\n",
    "    vectorizer = HashingVectorizer(\n",
    "        stop_words=\"english\", alternate_sign=False, n_features=N_FEATURES\n",
    "    )\n",
    "    X_train = vectorizer.transform(X_train)\n",
    "else:\n",
    "    vectorizer = TfidfVectorizer(sublinear_tf=True, max_df=0.5, stop_words=\"english\")\n",
    "    X_train = vectorizer.fit_transform(X_train)\n",
    "    \n",
    "X_test = vectorizer.transform(X_test)"
   ]
  },
  {
   "cell_type": "markdown",
   "id": "6c214a42",
   "metadata": {},
   "source": [
    "# GaussianNB"
   ]
  },
  {
   "cell_type": "code",
   "execution_count": 11,
   "id": "05610027",
   "metadata": {},
   "outputs": [
    {
     "name": "stdout",
     "output_type": "stream",
     "text": [
      "Wall time: 2.08 s\n"
     ]
    },
    {
     "data": {
      "text/plain": [
       "GaussianNB()"
      ]
     },
     "execution_count": 11,
     "metadata": {},
     "output_type": "execute_result"
    }
   ],
   "source": [
    "%%time \n",
    "from sklearn.naive_bayes import GaussianNB\n",
    "model = None\n",
    "model = GaussianNB()\n",
    "model.fit(X_train.toarray(), y_train)"
   ]
  },
  {
   "cell_type": "code",
   "execution_count": 12,
   "id": "ded09455",
   "metadata": {},
   "outputs": [
    {
     "name": "stdout",
     "output_type": "stream",
     "text": [
      "accuracy_score on training data :  0.9996308600959763\n",
      "accuracy_score on test data:  0.9380530973451328\n",
      "Wall time: 6.2 s\n"
     ]
    }
   ],
   "source": [
    "%%time \n",
    "from sklearn.metrics import accuracy_score\n",
    "pred_train=model.predict(X_train.toarray())\n",
    "print('accuracy_score on training data : ',accuracy_score(y_train,pred_train))\n",
    "\n",
    "pred_test=model.predict(X_test.toarray())\n",
    "print('accuracy_score on test data: ',accuracy_score(y_test,pred_test))"
   ]
  },
  {
   "cell_type": "markdown",
   "id": "4f0df1bb",
   "metadata": {},
   "source": [
    "# MultinomialNB"
   ]
  },
  {
   "cell_type": "code",
   "execution_count": 13,
   "id": "654af039",
   "metadata": {},
   "outputs": [
    {
     "data": {
      "text/plain": [
       "MultinomialNB()"
      ]
     },
     "execution_count": 13,
     "metadata": {},
     "output_type": "execute_result"
    }
   ],
   "source": [
    "from sklearn.naive_bayes import MultinomialNB\n",
    "model = None\n",
    "model = MultinomialNB()\n",
    "model.fit(X_train, y_train)"
   ]
  },
  {
   "cell_type": "code",
   "execution_count": 14,
   "id": "80fd5d8d",
   "metadata": {},
   "outputs": [
    {
     "name": "stdout",
     "output_type": "stream",
     "text": [
      "accuracy_score on training data :  0.9619785898855666\n",
      "accuracy_score on test data:  0.9365781710914455\n",
      "Wall time: 10.1 ms\n"
     ]
    }
   ],
   "source": [
    "%%time \n",
    "from sklearn.metrics import accuracy_score\n",
    "pred_train=model.predict(X_train)\n",
    "print('accuracy_score on training data : ',accuracy_score(y_train,pred_train))\n",
    "\n",
    "pred_test=model.predict(X_test)\n",
    "print('accuracy_score on test data: ',accuracy_score(y_test,pred_test))"
   ]
  },
  {
   "cell_type": "markdown",
   "id": "ce6d0e74",
   "metadata": {},
   "source": [
    "# BernoulliNB"
   ]
  },
  {
   "cell_type": "code",
   "execution_count": 15,
   "id": "ce965573",
   "metadata": {},
   "outputs": [
    {
     "name": "stdout",
     "output_type": "stream",
     "text": [
      "Wall time: 10 ms\n"
     ]
    },
    {
     "data": {
      "text/plain": [
       "BernoulliNB()"
      ]
     },
     "execution_count": 15,
     "metadata": {},
     "output_type": "execute_result"
    }
   ],
   "source": [
    "%%time \n",
    "##  word occurrence vectors (rather than word count vectors) \n",
    "from sklearn.naive_bayes import BernoulliNB\n",
    "model = None\n",
    "model = BernoulliNB()\n",
    "model.fit(X_train, y_train)"
   ]
  },
  {
   "cell_type": "code",
   "execution_count": 16,
   "id": "7cb0112b",
   "metadata": {},
   "outputs": [
    {
     "name": "stdout",
     "output_type": "stream",
     "text": [
      "accuracy_score on training data :  0.9306016980435585\n",
      "accuracy_score on test data:  0.8864306784660767\n"
     ]
    }
   ],
   "source": [
    "from sklearn.metrics import accuracy_score\n",
    "pred_train=model.predict(X_train)\n",
    "print('accuracy_score on training data : ',accuracy_score(y_train,pred_train))\n",
    "\n",
    "pred_test=model.predict(X_test)\n",
    "print('accuracy_score on test data: ',accuracy_score(y_test,pred_test))"
   ]
  },
  {
   "cell_type": "markdown",
   "id": "b2374ab9",
   "metadata": {},
   "source": [
    "# CategoricalNB"
   ]
  },
  {
   "cell_type": "code",
   "execution_count": 17,
   "id": "c9a493ed",
   "metadata": {},
   "outputs": [
    {
     "name": "stdout",
     "output_type": "stream",
     "text": [
      "Wall time: 9.9 s\n"
     ]
    },
    {
     "data": {
      "text/plain": [
       "CategoricalNB()"
      ]
     },
     "execution_count": 17,
     "metadata": {},
     "output_type": "execute_result"
    }
   ],
   "source": [
    "%%time \n",
    "# CategoricalNB assumes that the sample matrix is encoded \n",
    "# (for instance with the help of OrdinalEncoder) \n",
    "# such that all categories for each feature are represented with numbers 0,1,2,..n-1\n",
    "# where ni is the number of available categories of feature i.\n",
    "\n",
    "from sklearn.naive_bayes import CategoricalNB\n",
    "model = None\n",
    "model = CategoricalNB()\n",
    "model.fit(X_train.toarray(), y_train)"
   ]
  },
  {
   "cell_type": "code",
   "execution_count": 18,
   "id": "a7415645",
   "metadata": {},
   "outputs": [
    {
     "name": "stdout",
     "output_type": "stream",
     "text": [
      "accuracy_score on training data :  0.2882982650424511\n",
      "accuracy_score on test data:  0.2831858407079646\n"
     ]
    }
   ],
   "source": [
    "from sklearn.metrics import accuracy_score\n",
    "pred_train=model.predict(X_train.toarray())\n",
    "print('accuracy_score on training data : ',accuracy_score(y_train,pred_train))\n",
    "\n",
    "pred_test=model.predict(X_test.toarray())\n",
    "print('accuracy_score on test data: ',accuracy_score(y_test,pred_test))"
   ]
  },
  {
   "cell_type": "markdown",
   "id": "8b007a86",
   "metadata": {},
   "source": [
    "# ComplementNB"
   ]
  },
  {
   "cell_type": "code",
   "execution_count": 19,
   "id": "dae573b7",
   "metadata": {},
   "outputs": [
    {
     "name": "stdout",
     "output_type": "stream",
     "text": [
      "Wall time: 9.56 ms\n"
     ]
    },
    {
     "data": {
      "text/plain": [
       "ComplementNB()"
      ]
     },
     "execution_count": 19,
     "metadata": {},
     "output_type": "execute_result"
    }
   ],
   "source": [
    "%%time \n",
    "# CNB is an adaptation of the standard multinomial naive Bayes (MNB) algorithm \n",
    "# that is particularly suited for imbalanced data sets.\n",
    "from sklearn.naive_bayes import ComplementNB\n",
    "model = None\n",
    "model = ComplementNB()\n",
    "model.fit(X_train, y_train)"
   ]
  },
  {
   "cell_type": "code",
   "execution_count": 22,
   "id": "c710b908",
   "metadata": {},
   "outputs": [],
   "source": [
    "unique, counts = np.unique(y_test, return_counts=True)"
   ]
  },
  {
   "cell_type": "code",
   "execution_count": 23,
   "id": "0675492d",
   "metadata": {},
   "outputs": [
    {
     "data": {
      "text/plain": [
       "{0: 159, 1: 192, 2: 207, 3: 120}"
      ]
     },
     "execution_count": 23,
     "metadata": {},
     "output_type": "execute_result"
    }
   ],
   "source": [
    "dict(zip(unique, counts))"
   ]
  },
  {
   "cell_type": "code",
   "execution_count": 24,
   "id": "4a644245",
   "metadata": {},
   "outputs": [
    {
     "name": "stdout",
     "output_type": "stream",
     "text": [
      "accuracy_score on training data :  0.9737910668143226\n",
      "accuracy_score on test data:  0.9528023598820059\n"
     ]
    }
   ],
   "source": [
    "from sklearn.metrics import accuracy_score\n",
    "pred_train=model.predict(X_train)\n",
    "print('accuracy_score on training data : ',accuracy_score(y_train,pred_train))\n",
    "\n",
    "pred_test=model.predict(X_test)\n",
    "print('accuracy_score on test data: ',accuracy_score(y_test,pred_test))"
   ]
  },
  {
   "cell_type": "code",
   "execution_count": null,
   "id": "0969dc77",
   "metadata": {},
   "outputs": [],
   "source": []
  }
 ],
 "metadata": {
  "kernelspec": {
   "display_name": "Python 3",
   "language": "python",
   "name": "python3"
  },
  "language_info": {
   "codemirror_mode": {
    "name": "ipython",
    "version": 3
   },
   "file_extension": ".py",
   "mimetype": "text/x-python",
   "name": "python",
   "nbconvert_exporter": "python",
   "pygments_lexer": "ipython3",
   "version": "3.7.0"
  }
 },
 "nbformat": 4,
 "nbformat_minor": 5
}
