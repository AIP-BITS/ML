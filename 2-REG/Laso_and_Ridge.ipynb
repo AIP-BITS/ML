{
  "nbformat": 4,
  "nbformat_minor": 0,
  "metadata": {
    "colab": {
      "name": "Laso and Ridge.ipynb",
      "provenance": []
    },
    "kernelspec": {
      "name": "python3",
      "display_name": "Python 3"
    },
    "language_info": {
      "name": "python"
    }
  },
  "cells": [
    {
      "cell_type": "code",
      "execution_count": null,
      "metadata": {
        "id": "TBvwwX0jxQUo"
      },
      "outputs": [],
      "source": [
        "import warnings\n",
        "warnings.simplefilter(action='ignore',category=FutureWarning)"
      ]
    },
    {
      "cell_type": "code",
      "source": [
        "import numpy as np \n",
        "import pandas as pd\n",
        "\n",
        "import random \n",
        "\n",
        "x = np.array([i*np.pi/180 for i in range(60,300,4)])\n",
        "y = np.sin(x) + np.random.normal(0,0.15,len(x))\n",
        "\n",
        "data = pd.DataFrame(np.column_stack([x,y]),columns=['x','y'])"
      ],
      "metadata": {
        "id": "gZN9-pFLxpNh"
      },
      "execution_count": null,
      "outputs": []
    },
    {
      "cell_type": "code",
      "source": [
        "data.head()"
      ],
      "metadata": {
        "colab": {
          "base_uri": "https://localhost:8080/",
          "height": 206
        },
        "id": "ZorvYkJLyz9G",
        "outputId": "81f1221e-d549-43a8-88b0-76c98093aed5"
      },
      "execution_count": null,
      "outputs": [
        {
          "output_type": "execute_result",
          "data": {
            "text/plain": [
              "          x         y\n",
              "0  1.047198  0.761216\n",
              "1  1.117011  0.971831\n",
              "2  1.186824  0.739816\n",
              "3  1.256637  0.877233\n",
              "4  1.326450  0.846670"
            ],
            "text/html": [
              "\n",
              "  <div id=\"df-81fa995e-8f6f-419e-82f0-c90c07240371\">\n",
              "    <div class=\"colab-df-container\">\n",
              "      <div>\n",
              "<style scoped>\n",
              "    .dataframe tbody tr th:only-of-type {\n",
              "        vertical-align: middle;\n",
              "    }\n",
              "\n",
              "    .dataframe tbody tr th {\n",
              "        vertical-align: top;\n",
              "    }\n",
              "\n",
              "    .dataframe thead th {\n",
              "        text-align: right;\n",
              "    }\n",
              "</style>\n",
              "<table border=\"1\" class=\"dataframe\">\n",
              "  <thead>\n",
              "    <tr style=\"text-align: right;\">\n",
              "      <th></th>\n",
              "      <th>x</th>\n",
              "      <th>y</th>\n",
              "    </tr>\n",
              "  </thead>\n",
              "  <tbody>\n",
              "    <tr>\n",
              "      <th>0</th>\n",
              "      <td>1.047198</td>\n",
              "      <td>0.761216</td>\n",
              "    </tr>\n",
              "    <tr>\n",
              "      <th>1</th>\n",
              "      <td>1.117011</td>\n",
              "      <td>0.971831</td>\n",
              "    </tr>\n",
              "    <tr>\n",
              "      <th>2</th>\n",
              "      <td>1.186824</td>\n",
              "      <td>0.739816</td>\n",
              "    </tr>\n",
              "    <tr>\n",
              "      <th>3</th>\n",
              "      <td>1.256637</td>\n",
              "      <td>0.877233</td>\n",
              "    </tr>\n",
              "    <tr>\n",
              "      <th>4</th>\n",
              "      <td>1.326450</td>\n",
              "      <td>0.846670</td>\n",
              "    </tr>\n",
              "  </tbody>\n",
              "</table>\n",
              "</div>\n",
              "      <button class=\"colab-df-convert\" onclick=\"convertToInteractive('df-81fa995e-8f6f-419e-82f0-c90c07240371')\"\n",
              "              title=\"Convert this dataframe to an interactive table.\"\n",
              "              style=\"display:none;\">\n",
              "        \n",
              "  <svg xmlns=\"http://www.w3.org/2000/svg\" height=\"24px\"viewBox=\"0 0 24 24\"\n",
              "       width=\"24px\">\n",
              "    <path d=\"M0 0h24v24H0V0z\" fill=\"none\"/>\n",
              "    <path d=\"M18.56 5.44l.94 2.06.94-2.06 2.06-.94-2.06-.94-.94-2.06-.94 2.06-2.06.94zm-11 1L8.5 8.5l.94-2.06 2.06-.94-2.06-.94L8.5 2.5l-.94 2.06-2.06.94zm10 10l.94 2.06.94-2.06 2.06-.94-2.06-.94-.94-2.06-.94 2.06-2.06.94z\"/><path d=\"M17.41 7.96l-1.37-1.37c-.4-.4-.92-.59-1.43-.59-.52 0-1.04.2-1.43.59L10.3 9.45l-7.72 7.72c-.78.78-.78 2.05 0 2.83L4 21.41c.39.39.9.59 1.41.59.51 0 1.02-.2 1.41-.59l7.78-7.78 2.81-2.81c.8-.78.8-2.07 0-2.86zM5.41 20L4 18.59l7.72-7.72 1.47 1.35L5.41 20z\"/>\n",
              "  </svg>\n",
              "      </button>\n",
              "      \n",
              "  <style>\n",
              "    .colab-df-container {\n",
              "      display:flex;\n",
              "      flex-wrap:wrap;\n",
              "      gap: 12px;\n",
              "    }\n",
              "\n",
              "    .colab-df-convert {\n",
              "      background-color: #E8F0FE;\n",
              "      border: none;\n",
              "      border-radius: 50%;\n",
              "      cursor: pointer;\n",
              "      display: none;\n",
              "      fill: #1967D2;\n",
              "      height: 32px;\n",
              "      padding: 0 0 0 0;\n",
              "      width: 32px;\n",
              "    }\n",
              "\n",
              "    .colab-df-convert:hover {\n",
              "      background-color: #E2EBFA;\n",
              "      box-shadow: 0px 1px 2px rgba(60, 64, 67, 0.3), 0px 1px 3px 1px rgba(60, 64, 67, 0.15);\n",
              "      fill: #174EA6;\n",
              "    }\n",
              "\n",
              "    [theme=dark] .colab-df-convert {\n",
              "      background-color: #3B4455;\n",
              "      fill: #D2E3FC;\n",
              "    }\n",
              "\n",
              "    [theme=dark] .colab-df-convert:hover {\n",
              "      background-color: #434B5C;\n",
              "      box-shadow: 0px 1px 3px 1px rgba(0, 0, 0, 0.15);\n",
              "      filter: drop-shadow(0px 1px 2px rgba(0, 0, 0, 0.3));\n",
              "      fill: #FFFFFF;\n",
              "    }\n",
              "  </style>\n",
              "\n",
              "      <script>\n",
              "        const buttonEl =\n",
              "          document.querySelector('#df-81fa995e-8f6f-419e-82f0-c90c07240371 button.colab-df-convert');\n",
              "        buttonEl.style.display =\n",
              "          google.colab.kernel.accessAllowed ? 'block' : 'none';\n",
              "\n",
              "        async function convertToInteractive(key) {\n",
              "          const element = document.querySelector('#df-81fa995e-8f6f-419e-82f0-c90c07240371');\n",
              "          const dataTable =\n",
              "            await google.colab.kernel.invokeFunction('convertToInteractive',\n",
              "                                                     [key], {});\n",
              "          if (!dataTable) return;\n",
              "\n",
              "          const docLinkHtml = 'Like what you see? Visit the ' +\n",
              "            '<a target=\"_blank\" href=https://colab.research.google.com/notebooks/data_table.ipynb>data table notebook</a>'\n",
              "            + ' to learn more about interactive tables.';\n",
              "          element.innerHTML = '';\n",
              "          dataTable['output_type'] = 'display_data';\n",
              "          await google.colab.output.renderOutput(dataTable, element);\n",
              "          const docLink = document.createElement('div');\n",
              "          docLink.innerHTML = docLinkHtml;\n",
              "          element.appendChild(docLink);\n",
              "        }\n",
              "      </script>\n",
              "    </div>\n",
              "  </div>\n",
              "  "
            ]
          },
          "metadata": {},
          "execution_count": 25
        }
      ]
    },
    {
      "cell_type": "code",
      "source": [
        "import matplotlib.pyplot as plt \n",
        "plt.plot(data[['x']],data[['y']],'.')\n"
      ],
      "metadata": {
        "colab": {
          "base_uri": "https://localhost:8080/",
          "height": 282
        },
        "id": "KpoP9DiXy1Uz",
        "outputId": "8291f865-a5b0-4fff-fca3-cbd7044f7685"
      },
      "execution_count": null,
      "outputs": [
        {
          "output_type": "execute_result",
          "data": {
            "text/plain": [
              "[<matplotlib.lines.Line2D at 0x7fb68bcbf490>]"
            ]
          },
          "metadata": {},
          "execution_count": 13
        },
        {
          "output_type": "display_data",
          "data": {
            "text/plain": [
              "<Figure size 432x288 with 1 Axes>"
            ],
            "image/png": "[encoded data removed]"
          },
          "metadata": {
            "needs_background": "light"
          }
        }
      ]
    },
    {
      "cell_type": "code",
      "source": [
        "from sklearn.linear_model import LinearRegression\n",
        "\n",
        "linreg = LinearRegression(normalize=True)\n",
        "linreg.fit(data[['x']],data[['y']])"
      ],
      "metadata": {
        "colab": {
          "base_uri": "https://localhost:8080/"
        },
        "id": "N2Cahs__zC7h",
        "outputId": "46ebc3eb-bdb0-494b-d568-d888cb2f0fe9"
      },
      "execution_count": null,
      "outputs": [
        {
          "output_type": "execute_result",
          "data": {
            "text/plain": [
              "LinearRegression(normalize=True)"
            ]
          },
          "metadata": {},
          "execution_count": 14
        }
      ]
    },
    {
      "cell_type": "code",
      "source": [
        "y_pred = linreg.predict(data[['x']])"
      ],
      "metadata": {
        "id": "BHa4ThCPzhh0"
      },
      "execution_count": null,
      "outputs": []
    },
    {
      "cell_type": "code",
      "source": [
        "plt.plot(data[['x']],y_pred)\n",
        "plt.plot(data[['x']],data[['y']],'.')"
      ],
      "metadata": {
        "colab": {
          "base_uri": "https://localhost:8080/",
          "height": 282
        },
        "id": "l-hW0-Ta0ZP6",
        "outputId": "77a9cc58-8b87-4787-95d2-b240de357b4b"
      },
      "execution_count": null,
      "outputs": [
        {
          "output_type": "execute_result",
          "data": {
            "text/plain": [
              "[<matplotlib.lines.Line2D at 0x7fb68b840d10>]"
            ]
          },
          "metadata": {},
          "execution_count": 17
        },
        {
          "output_type": "display_data",
          "data": {
            "text/plain": [
              "<Figure size 432x288 with 1 Axes>"
            ],
            "image/png": "[encoded data removed]"
          },
          "metadata": {
            "needs_background": "light"
          }
        }
      ]
    },
    {
      "cell_type": "code",
      "source": [
        "for i in range(2,50):\n",
        "  colname = 'x_'+str(i)\n",
        "  data[colname] = data['x']**i\n",
        "\n",
        "data.head()"
      ],
      "metadata": {
        "colab": {
          "base_uri": "https://localhost:8080/",
          "height": 299
        },
        "id": "Wj0BrqSG0sR6",
        "outputId": "3098a206-e667-4fc4-98ee-96aca6b44c56"
      },
      "execution_count": null,
      "outputs": [
        {
          "output_type": "execute_result",
          "data": {
            "text/plain": [
              "          x         y       x_2       x_3       x_4       x_5       x_6  \\\n",
              "0  1.047198  0.761216  1.096623  1.148381  1.202581  1.259340  1.318778   \n",
              "1  1.117011  0.971831  1.247713  1.393709  1.556788  1.738948  1.942424   \n",
              "2  1.186824  0.739816  1.408551  1.671702  1.984016  2.354677  2.794587   \n",
              "3  1.256637  0.877233  1.579137  1.984402  2.493673  3.133642  3.937850   \n",
              "4  1.326450  0.846670  1.759470  2.333850  3.095735  4.106339  5.446854   \n",
              "\n",
              "        x_7       x_8        x_9  ...          x_40           x_41  \\\n",
              "0  1.381021  1.446202   1.514459  ...      6.326226       6.624809   \n",
              "1  2.169709  2.423588   2.707173  ...     83.616823      93.400888   \n",
              "2  3.316683  3.936319   4.671717  ...    945.042222    1121.598687   \n",
              "3  4.948448  6.218404   7.814277  ...   9298.107455   11684.346430   \n",
              "4  7.224981  9.583578  12.712139  ...  80842.250480  107233.221865   \n",
              "\n",
              "            x_42           x_43           x_44           x_45           x_46  \\\n",
              "0       6.937483       7.264916       7.607802       7.966871       8.342888   \n",
              "1     104.329793     116.537497     130.173634     145.405345     162.419329   \n",
              "2    1331.140118    1579.828895    1874.978677    2225.269489    2641.002995   \n",
              "3   14682.982762   18451.180311   23186.437006   29136.936065   36614.553716   \n",
              "4  142239.531969  188673.660111  250266.220135  331965.685639  440335.960571   \n",
              "\n",
              "            x_47           x_48          x_49  \n",
              "0       8.736652       9.149001  9.580811e+00  \n",
              "1     181.424132     202.652701  2.263652e+02  \n",
              "2    3134.405451    3719.987275  4.414970e+03  \n",
              "3   46011.205187   57819.385680  7.265798e+04  \n",
              "4  584083.736845  774758.007962  1.027678e+06  \n",
              "\n",
              "[5 rows x 50 columns]"
            ],
            "text/html": [
              "\n",
              "  <div id=\"df-563f862e-bded-417d-b5b5-b554ed668a19\">\n",
              "    <div class=\"colab-df-container\">\n",
              "      <div>\n",
              "<style scoped>\n",
              "    .dataframe tbody tr th:only-of-type {\n",
              "        vertical-align: middle;\n",
              "    }\n",
              "\n",
              "    .dataframe tbody tr th {\n",
              "        vertical-align: top;\n",
              "    }\n",
              "\n",
              "    .dataframe thead th {\n",
              "        text-align: right;\n",
              "    }\n",
              "</style>\n",
              "<table border=\"1\" class=\"dataframe\">\n",
              "  <thead>\n",
              "    <tr style=\"text-align: right;\">\n",
              "      <th></th>\n",
              "      <th>x</th>\n",
              "      <th>y</th>\n",
              "      <th>x_2</th>\n",
              "      <th>x_3</th>\n",
              "      <th>x_4</th>\n",
              "      <th>x_5</th>\n",
              "      <th>x_6</th>\n",
              "      <th>x_7</th>\n",
              "      <th>x_8</th>\n",
              "      <th>x_9</th>\n",
              "      <th>...</th>\n",
              "      <th>x_40</th>\n",
              "      <th>x_41</th>\n",
              "      <th>x_42</th>\n",
              "      <th>x_43</th>\n",
              "      <th>x_44</th>\n",
              "      <th>x_45</th>\n",
              "      <th>x_46</th>\n",
              "      <th>x_47</th>\n",
              "      <th>x_48</th>\n",
              "      <th>x_49</th>\n",
              "    </tr>\n",
              "  </thead>\n",
              "  <tbody>\n",
              "    <tr>\n",
              "      <th>0</th>\n",
              "      <td>1.047198</td>\n",
              "      <td>0.761216</td>\n",
              "      <td>1.096623</td>\n",
              "      <td>1.148381</td>\n",
              "      <td>1.202581</td>\n",
              "      <td>1.259340</td>\n",
              "      <td>1.318778</td>\n",
              "      <td>1.381021</td>\n",
              "      <td>1.446202</td>\n",
              "      <td>1.514459</td>\n",
              "      <td>...</td>\n",
              "      <td>6.326226</td>\n",
              "      <td>6.624809</td>\n",
              "      <td>6.937483</td>\n",
              "      <td>7.264916</td>\n",
              "      <td>7.607802</td>\n",
              "      <td>7.966871</td>\n",
              "      <td>8.342888</td>\n",
              "      <td>8.736652</td>\n",
              "      <td>9.149001</td>\n",
              "      <td>9.580811e+00</td>\n",
              "    </tr>\n",
              "    <tr>\n",
              "      <th>1</th>\n",
              "      <td>1.117011</td>\n",
              "      <td>0.971831</td>\n",
              "      <td>1.247713</td>\n",
              "      <td>1.393709</td>\n",
              "      <td>1.556788</td>\n",
              "      <td>1.738948</td>\n",
              "      <td>1.942424</td>\n",
              "      <td>2.169709</td>\n",
              "      <td>2.423588</td>\n",
              "      <td>2.707173</td>\n",
              "      <td>...</td>\n",
              "      <td>83.616823</td>\n",
              "      <td>93.400888</td>\n",
              "      <td>104.329793</td>\n",
              "      <td>116.537497</td>\n",
              "      <td>130.173634</td>\n",
              "      <td>145.405345</td>\n",
              "      <td>162.419329</td>\n",
              "      <td>181.424132</td>\n",
              "      <td>202.652701</td>\n",
              "      <td>2.263652e+02</td>\n",
              "    </tr>\n",
              "    <tr>\n",
              "      <th>2</th>\n",
              "      <td>1.186824</td>\n",
              "      <td>0.739816</td>\n",
              "      <td>1.408551</td>\n",
              "      <td>1.671702</td>\n",
              "      <td>1.984016</td>\n",
              "      <td>2.354677</td>\n",
              "      <td>2.794587</td>\n",
              "      <td>3.316683</td>\n",
              "      <td>3.936319</td>\n",
              "      <td>4.671717</td>\n",
              "      <td>...</td>\n",
              "      <td>945.042222</td>\n",
              "      <td>1121.598687</td>\n",
              "      <td>1331.140118</td>\n",
              "      <td>1579.828895</td>\n",
              "      <td>1874.978677</td>\n",
              "      <td>2225.269489</td>\n",
              "      <td>2641.002995</td>\n",
              "      <td>3134.405451</td>\n",
              "      <td>3719.987275</td>\n",
              "      <td>4.414970e+03</td>\n",
              "    </tr>\n",
              "    <tr>\n",
              "      <th>3</th>\n",
              "      <td>1.256637</td>\n",
              "      <td>0.877233</td>\n",
              "      <td>1.579137</td>\n",
              "      <td>1.984402</td>\n",
              "      <td>2.493673</td>\n",
              "      <td>3.133642</td>\n",
              "      <td>3.937850</td>\n",
              "      <td>4.948448</td>\n",
              "      <td>6.218404</td>\n",
              "      <td>7.814277</td>\n",
              "      <td>...</td>\n",
              "      <td>9298.107455</td>\n",
              "      <td>11684.346430</td>\n",
              "      <td>14682.982762</td>\n",
              "      <td>18451.180311</td>\n",
              "      <td>23186.437006</td>\n",
              "      <td>29136.936065</td>\n",
              "      <td>36614.553716</td>\n",
              "      <td>46011.205187</td>\n",
              "      <td>57819.385680</td>\n",
              "      <td>7.265798e+04</td>\n",
              "    </tr>\n",
              "    <tr>\n",
              "      <th>4</th>\n",
              "      <td>1.326450</td>\n",
              "      <td>0.846670</td>\n",
              "      <td>1.759470</td>\n",
              "      <td>2.333850</td>\n",
              "      <td>3.095735</td>\n",
              "      <td>4.106339</td>\n",
              "      <td>5.446854</td>\n",
              "      <td>7.224981</td>\n",
              "      <td>9.583578</td>\n",
              "      <td>12.712139</td>\n",
              "      <td>...</td>\n",
              "      <td>80842.250480</td>\n",
              "      <td>107233.221865</td>\n",
              "      <td>142239.531969</td>\n",
              "      <td>188673.660111</td>\n",
              "      <td>250266.220135</td>\n",
              "      <td>331965.685639</td>\n",
              "      <td>440335.960571</td>\n",
              "      <td>584083.736845</td>\n",
              "      <td>774758.007962</td>\n",
              "      <td>1.027678e+06</td>\n",
              "    </tr>\n",
              "  </tbody>\n",
              "</table>\n",
              "<p>5 rows × 50 columns</p>\n",
              "</div>\n",
              "      <button class=\"colab-df-convert\" onclick=\"convertToInteractive('df-563f862e-bded-417d-b5b5-b554ed668a19')\"\n",
              "              title=\"Convert this dataframe to an interactive table.\"\n",
              "              style=\"display:none;\">\n",
              "        \n",
              "  <svg xmlns=\"http://www.w3.org/2000/svg\" height=\"24px\"viewBox=\"0 0 24 24\"\n",
              "       width=\"24px\">\n",
              "    <path d=\"M0 0h24v24H0V0z\" fill=\"none\"/>\n",
              "    <path d=\"M18.56 5.44l.94 2.06.94-2.06 2.06-.94-2.06-.94-.94-2.06-.94 2.06-2.06.94zm-11 1L8.5 8.5l.94-2.06 2.06-.94-2.06-.94L8.5 2.5l-.94 2.06-2.06.94zm10 10l.94 2.06.94-2.06 2.06-.94-2.06-.94-.94-2.06-.94 2.06-2.06.94z\"/><path d=\"M17.41 7.96l-1.37-1.37c-.4-.4-.92-.59-1.43-.59-.52 0-1.04.2-1.43.59L10.3 9.45l-7.72 7.72c-.78.78-.78 2.05 0 2.83L4 21.41c.39.39.9.59 1.41.59.51 0 1.02-.2 1.41-.59l7.78-7.78 2.81-2.81c.8-.78.8-2.07 0-2.86zM5.41 20L4 18.59l7.72-7.72 1.47 1.35L5.41 20z\"/>\n",
              "  </svg>\n",
              "      </button>\n",
              "      \n",
              "  <style>\n",
              "    .colab-df-container {\n",
              "      display:flex;\n",
              "      flex-wrap:wrap;\n",
              "      gap: 12px;\n",
              "    }\n",
              "\n",
              "    .colab-df-convert {\n",
              "      background-color: #E8F0FE;\n",
              "      border: none;\n",
              "      border-radius: 50%;\n",
              "      cursor: pointer;\n",
              "      display: none;\n",
              "      fill: #1967D2;\n",
              "      height: 32px;\n",
              "      padding: 0 0 0 0;\n",
              "      width: 32px;\n",
              "    }\n",
              "\n",
              "    .colab-df-convert:hover {\n",
              "      background-color: #E2EBFA;\n",
              "      box-shadow: 0px 1px 2px rgba(60, 64, 67, 0.3), 0px 1px 3px 1px rgba(60, 64, 67, 0.15);\n",
              "      fill: #174EA6;\n",
              "    }\n",
              "\n",
              "    [theme=dark] .colab-df-convert {\n",
              "      background-color: #3B4455;\n",
              "      fill: #D2E3FC;\n",
              "    }\n",
              "\n",
              "    [theme=dark] .colab-df-convert:hover {\n",
              "      background-color: #434B5C;\n",
              "      box-shadow: 0px 1px 3px 1px rgba(0, 0, 0, 0.15);\n",
              "      filter: drop-shadow(0px 1px 2px rgba(0, 0, 0, 0.3));\n",
              "      fill: #FFFFFF;\n",
              "    }\n",
              "  </style>\n",
              "\n",
              "      <script>\n",
              "        const buttonEl =\n",
              "          document.querySelector('#df-563f862e-bded-417d-b5b5-b554ed668a19 button.colab-df-convert');\n",
              "        buttonEl.style.display =\n",
              "          google.colab.kernel.accessAllowed ? 'block' : 'none';\n",
              "\n",
              "        async function convertToInteractive(key) {\n",
              "          const element = document.querySelector('#df-563f862e-bded-417d-b5b5-b554ed668a19');\n",
              "          const dataTable =\n",
              "            await google.colab.kernel.invokeFunction('convertToInteractive',\n",
              "                                                     [key], {});\n",
              "          if (!dataTable) return;\n",
              "\n",
              "          const docLinkHtml = 'Like what you see? Visit the ' +\n",
              "            '<a target=\"_blank\" href=https://colab.research.google.com/notebooks/data_table.ipynb>data table notebook</a>'\n",
              "            + ' to learn more about interactive tables.';\n",
              "          element.innerHTML = '';\n",
              "          dataTable['output_type'] = 'display_data';\n",
              "          await google.colab.output.renderOutput(dataTable, element);\n",
              "          const docLink = document.createElement('div');\n",
              "          docLink.innerHTML = docLinkHtml;\n",
              "          element.appendChild(docLink);\n",
              "        }\n",
              "      </script>\n",
              "    </div>\n",
              "  </div>\n",
              "  "
            ]
          },
          "metadata": {},
          "execution_count": 26
        }
      ]
    },
    {
      "cell_type": "code",
      "source": [
        "from sklearn.linear_model import LinearRegression\n",
        "\n",
        "linreg = LinearRegression(normalize=True)\n",
        "linreg.fit(data[['x','x_2','x_3']],data[['y']])"
      ],
      "metadata": {
        "colab": {
          "base_uri": "https://localhost:8080/"
        },
        "id": "3wOjL7cp2JBf",
        "outputId": "753f4e7f-c6a5-4d1c-fc59-6c7294c8d5a0"
      },
      "execution_count": null,
      "outputs": [
        {
          "output_type": "execute_result",
          "data": {
            "text/plain": [
              "LinearRegression(normalize=True)"
            ]
          },
          "metadata": {},
          "execution_count": 19
        }
      ]
    },
    {
      "cell_type": "code",
      "source": [
        "y_pred = linreg.predict(data[['x','x_2','x_3']])\n",
        "plt.plot(data[['x']],y_pred)\n",
        "plt.plot(data[['x']],data[['y']],'.')"
      ],
      "metadata": {
        "colab": {
          "base_uri": "https://localhost:8080/",
          "height": 282
        },
        "id": "RfcJxzlo2V_M",
        "outputId": "a4315bca-1dd8-422a-a4c5-98724c345acc"
      },
      "execution_count": null,
      "outputs": [
        {
          "output_type": "execute_result",
          "data": {
            "text/plain": [
              "[<matplotlib.lines.Line2D at 0x7fb68b7b6090>]"
            ]
          },
          "metadata": {},
          "execution_count": 20
        },
        {
          "output_type": "display_data",
          "data": {
            "text/plain": [
              "<Figure size 432x288 with 1 Axes>"
            ],
            "image/png": "[encoded data removed]"
          },
          "metadata": {
            "needs_background": "light"
          }
        }
      ]
    },
    {
      "cell_type": "code",
      "source": [
        "predictors = ['x']\n",
        "predictors.extend(['x_'+str(i) for i in range(2,50)])"
      ],
      "metadata": {
        "id": "b8yf96b_3tnO"
      },
      "execution_count": null,
      "outputs": []
    },
    {
      "cell_type": "code",
      "source": [
        "from sklearn.linear_model import LinearRegression\n",
        "\n",
        "predictors = ['x']\n",
        "predictors.extend(['x_'+str(i) for i in range(2,50)])\n",
        "\n",
        "\n",
        "linreg = LinearRegression(normalize=True)\n",
        "linreg.fit(data[predictors],data[['y']])\n",
        "\n",
        "y_pred = linreg.predict(data[predictors])\n",
        "plt.plot(data[['x']],y_pred)\n",
        "plt.plot(data[['x']],data[['y']],'.')"
      ],
      "metadata": {
        "colab": {
          "base_uri": "https://localhost:8080/",
          "height": 282
        },
        "id": "4LzxoHmW2f35",
        "outputId": "2bed8df9-bc1e-485d-cba8-17b81309059e"
      },
      "execution_count": null,
      "outputs": [
        {
          "output_type": "execute_result",
          "data": {
            "text/plain": [
              "[<matplotlib.lines.Line2D at 0x7fb6896de690>]"
            ]
          },
          "metadata": {},
          "execution_count": 28
        },
        {
          "output_type": "display_data",
          "data": {
            "text/plain": [
              "<Figure size 432x288 with 1 Axes>"
            ],
            "image/png": "[encoded data removed]"
          },
          "metadata": {
            "needs_background": "light"
          }
        }
      ]
    },
    {
      "cell_type": "code",
      "source": [
        "from sklearn.linear_model import Ridge \n",
        "\n",
        "predictors = ['x']\n",
        "predictors.extend(['x_'+str(i) for i in range(2,50)])\n",
        "\n",
        "\n",
        "linreg = Ridge(alpha=1e-2,normalize=True)\n",
        "linreg.fit(data[predictors],data[['y']])\n",
        "\n",
        "y_pred = linreg.predict(data[predictors])\n",
        "plt.plot(data[['x']],y_pred)\n",
        "plt.plot(data[['x']],data[['y']],'.')"
      ],
      "metadata": {
        "colab": {
          "base_uri": "https://localhost:8080/",
          "height": 282
        },
        "id": "GmhvLbAR31Tn",
        "outputId": "3186eb33-56b1-4042-994d-26a725bdeedb"
      },
      "execution_count": null,
      "outputs": [
        {
          "output_type": "execute_result",
          "data": {
            "text/plain": [
              "[<matplotlib.lines.Line2D at 0x7fb689414490>]"
            ]
          },
          "metadata": {},
          "execution_count": 35
        },
        {
          "output_type": "display_data",
          "data": {
            "text/plain": [
              "<Figure size 432x288 with 1 Axes>"
            ],
            "image/png": "[encoded data removed]"
          },
          "metadata": {
            "needs_background": "light"
          }
        }
      ]
    },
    {
      "cell_type": "code",
      "source": [
        "# Least Absolute Shrinkage and selection Operator\n",
        "from sklearn.linear_model import Lasso \n",
        "\n",
        "predictors = ['x']\n",
        "predictors.extend(['x_'+str(i) for i in range(2,50)])\n",
        "\n",
        "\n",
        "linreg = Lasso(alpha=1e-8,normalize=True,max_iter=1e5)\n",
        "linreg.fit(data[predictors],data[['y']])\n",
        "\n",
        "y_pred = linreg.predict(data[predictors])\n",
        "plt.plot(data[['x']],y_pred)\n",
        "plt.plot(data[['x']],data[['y']],'.')"
      ],
      "metadata": {
        "colab": {
          "base_uri": "https://localhost:8080/",
          "height": 337
        },
        "id": "Juhofuac5YsO",
        "outputId": "457d4f52-0f24-4f6c-fc3c-b14d538ea21a"
      },
      "execution_count": null,
      "outputs": [
        {
          "output_type": "stream",
          "name": "stderr",
          "text": [
            "/usr/local/lib/python3.7/dist-packages/sklearn/linear_model/_coordinate_descent.py:648: ConvergenceWarning: Objective did not converge. You might want to increase the number of iterations, check the scale of the features or consider increasing regularisation. Duality gap: 6.955e-01, tolerance: 3.620e-03\n",
            "  coef_, l1_reg, l2_reg, X, y, max_iter, tol, rng, random, positive\n"
          ]
        },
        {
          "output_type": "execute_result",
          "data": {
            "text/plain": [
              "[<matplotlib.lines.Line2D at 0x7fb6892e9e50>]"
            ]
          },
          "metadata": {},
          "execution_count": 38
        },
        {
          "output_type": "display_data",
          "data": {
            "text/plain": [
              "<Figure size 432x288 with 1 Axes>"
            ],
            "image/png": "[encoded data removed]"
          },
          "metadata": {
            "needs_background": "light"
          }
        }
      ]
    },
    {
      "cell_type": "code",
      "source": [
        ""
      ],
      "metadata": {
        "id": "t97LYbPz6eEY"
      },
      "execution_count": null,
      "outputs": []
    }
  ]
}