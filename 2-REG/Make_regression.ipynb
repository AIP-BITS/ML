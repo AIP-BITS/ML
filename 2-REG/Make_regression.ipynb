{
 "cells": [
  {
   "cell_type": "markdown",
   "id": "c2ccc7d7-aee4-4e22-bd6f-9eb8dac66306",
   "metadata": {},
   "source": [
    "## Make Regression "
   ]
  },
  {
   "cell_type": "code",
   "execution_count": 7,
   "id": "cece038c-2f45-4a2c-b6b5-b18542dd1bc6",
   "metadata": {},
   "outputs": [
    {
     "name": "stdout",
     "output_type": "stream",
     "text": [
      "Shape of X (features): (100, 12)\n",
      "Shape of y (target): (100,)\n",
      "True coefficients: [ 0.          0.         63.31513756 95.14033422  4.34125329 22.80797719\n",
      "  0.         81.91888594  0.         88.42064633 21.20448399 60.16118201]\n"
     ]
    }
   ],
   "source": [
    "from sklearn.datasets import make_regression\n",
    "\n",
    "# Parameters\n",
    "n_samples = 100\n",
    "n_features = 12\n",
    "n_informative = 8\n",
    "bias = 3.0\n",
    "\n",
    "# Generating the dataset\n",
    "X, y, coefficients = make_regression(n_samples=n_samples, \n",
    "                                     n_features=n_features, \n",
    "                                     n_informative=n_informative, \n",
    "                                     coef=True, \n",
    "                                     bias=bias, \n",
    "                                     random_state=42)\n",
    "\n",
    "# X contains the features, y contains the target variable, and coefficients contains the true coefficients\n",
    "print(\"Shape of X (features):\", X.shape)\n",
    "print(\"Shape of y (target):\", y.shape)\n",
    "print(\"True coefficients:\", coefficients)\n"
   ]
  },
  {
   "cell_type": "code",
   "execution_count": null,
   "id": "76f59a5e-39c6-4b8a-93ba-28b8325d7b33",
   "metadata": {},
   "outputs": [],
   "source": [
    "y = y.reshape(-1, 1)\n",
    "data = np.concatenate([X, y], axis=1)\n",
    "\n",
    "data\n",
    "\n",
    "import pandas as pd \n",
    "column_names = [f\"feature_{i}\" for i in range(n_features)] + [\"target\"]\n",
    "df = pd.DataFrame(data, columns=column_names)\n",
    "\n",
    "csv_file = \"regression_data.csv\"\n",
    "df.to_csv(csv_file, index=False)\n",
    "print(f\"Data saved to {csv_file}\")\n",
    "\n",
    "df.head()"
   ]
  },
  {
   "cell_type": "markdown",
   "id": "0510cbc4-ed51-4212-979e-8083e609a538",
   "metadata": {},
   "source": [
    "## Linear Regression "
   ]
  },
  {
   "cell_type": "code",
   "execution_count": 25,
   "id": "48244ab4-81ad-42d7-82cc-0fce5df14c6a",
   "metadata": {},
   "outputs": [],
   "source": [
    "X = df.iloc[:,:-1].copy()\n",
    "y = df.iloc[:,-1:].copy()"
   ]
  },
  {
   "cell_type": "code",
   "execution_count": 26,
   "id": "95b8c1bf-7e17-494c-bfd7-2b385c0c383f",
   "metadata": {},
   "outputs": [
    {
     "name": "stdout",
     "output_type": "stream",
     "text": [
      "Mean Squared Error: 6.108497087924591e-26\n",
      "Estimated coefficients: [[ 3.89372680e-14  3.81916720e-14  6.33151376e+01  9.51403342e+01\n",
      "   4.34125329e+00  2.28079772e+01  1.06414877e-13  8.19188859e+01\n",
      "  -4.62963001e-14  8.84206463e+01  2.12044840e+01  6.01611820e+01]]\n",
      "True coefficients: [ 0.          0.         63.31513756 95.14033422  4.34125329 22.80797719\n",
      "  0.         81.91888594  0.         88.42064633 21.20448399 60.16118201]\n"
     ]
    }
   ],
   "source": [
    "from sklearn.datasets import make_regression\n",
    "from sklearn.linear_model import LinearRegression\n",
    "from sklearn.metrics import mean_squared_error\n",
    "from sklearn.model_selection import train_test_split\n",
    "\n",
    "\n",
    "# Split the data into training and testing sets\n",
    "X_train, X_test, y_train, y_test = train_test_split(X, y, test_size=0.2, random_state=42)\n",
    "\n",
    "# Create a linear regression model\n",
    "model = LinearRegression()\n",
    "\n",
    "# Fit the model on the training data\n",
    "model.fit(X_train, y_train)\n",
    "\n",
    "# Predict on the test data\n",
    "y_pred = model.predict(X_test)\n",
    "\n",
    "# Evaluate the model\n",
    "mse = mean_squared_error(y_test, y_pred)\n",
    "print(\"Mean Squared Error:\", mse)\n",
    "\n",
    "# Optionally, compare the estimated coefficients with the true coefficients\n",
    "print(\"Estimated coefficients:\", model.coef_)\n",
    "print(\"True coefficients:\", coefficients)\n"
   ]
  },
  {
   "cell_type": "markdown",
   "id": "2302c4b3-b703-4d3e-b693-6a86007b1f70",
   "metadata": {},
   "source": [
    "## Ridge Regression "
   ]
  },
  {
   "cell_type": "code",
   "execution_count": 27,
   "id": "1e6484bb-d879-41cc-98b3-d03f890c00e2",
   "metadata": {},
   "outputs": [
    {
     "name": "stdout",
     "output_type": "stream",
     "text": [
      "Mean Squared Error: 4.8527497648597535\n",
      "Ridge Regression coefficients: [[-7.20403679e-02 -3.16609250e-01  6.24175830e+01  9.40147306e+01\n",
      "   4.21042332e+00  2.29278570e+01 -6.12598005e-02  8.10183044e+01\n",
      "  -1.60756843e-01  8.75522908e+01  2.07726721e+01  5.95315506e+01]]\n"
     ]
    }
   ],
   "source": [
    "from sklearn.datasets import make_regression\n",
    "from sklearn.linear_model import Ridge\n",
    "from sklearn.metrics import mean_squared_error\n",
    "from sklearn.model_selection import train_test_split\n",
    "\n",
    "# Split the data into training and testing sets\n",
    "X_train, X_test, y_train, y_test = train_test_split(X, y, test_size=0.2, random_state=42)\n",
    "\n",
    "# Create a Ridge regression model\n",
    "# You can adjust the alpha parameter to apply different strengths of regularization\n",
    "ridge_model = Ridge(alpha=1.0)\n",
    "\n",
    "# Fit the model on the training data\n",
    "ridge_model.fit(X_train, y_train)\n",
    "\n",
    "# Predict on the test data\n",
    "y_pred = ridge_model.predict(X_test)\n",
    "\n",
    "# Evaluate the model\n",
    "mse = mean_squared_error(y_test, y_pred)\n",
    "print(\"Mean Squared Error:\", mse)\n",
    "\n",
    "# Optionally, print the coefficients\n",
    "print(\"Ridge Regression coefficients:\", ridge_model.coef_)\n"
   ]
  },
  {
   "cell_type": "code",
   "execution_count": 9,
   "id": "e37eb327-29a0-45e2-9e18-5ea2a1bbe648",
   "metadata": {},
   "outputs": [
    {
     "name": "stdout",
     "output_type": "stream",
     "text": [
      "True coefficients: [ 0.          0.         63.31513756 95.14033422  4.34125329 22.80797719\n",
      "  0.         81.91888594  0.         88.42064633 21.20448399 60.16118201]\n"
     ]
    }
   ],
   "source": [
    "print(\"True coefficients:\", coefficients)"
   ]
  },
  {
   "cell_type": "markdown",
   "id": "751c67dc-4258-4065-8a8a-d265883e858b",
   "metadata": {},
   "source": [
    "## Lasso Regression "
   ]
  },
  {
   "cell_type": "code",
   "execution_count": 28,
   "id": "d26b5fe1-5d46-42b6-b3b8-e3bb39b311eb",
   "metadata": {},
   "outputs": [
    {
     "name": "stdout",
     "output_type": "stream",
     "text": [
      "Mean Squared Error: 0.09766838029211339\n",
      "Lasso Regression coefficients: [-0.         -0.         63.20761134 95.02945814  4.18019413 22.72127733\n",
      " -0.         81.85761803 -0.         88.34942434 21.09388946 60.08988342]\n"
     ]
    }
   ],
   "source": [
    "from sklearn.datasets import make_regression\n",
    "from sklearn.linear_model import Lasso\n",
    "from sklearn.metrics import mean_squared_error\n",
    "from sklearn.model_selection import train_test_split\n",
    "\n",
    "# Split the data into training and testing sets\n",
    "X_train, X_test, y_train, y_test = train_test_split(X, y, test_size=0.2, random_state=42)\n",
    "\n",
    "# Create a Lasso regression model\n",
    "# You can adjust the alpha parameter to apply different strengths of regularization\n",
    "lasso_model = Lasso(alpha=0.1)\n",
    "\n",
    "# Fit the model on the training data\n",
    "lasso_model.fit(X_train, y_train)\n",
    "\n",
    "# Predict on the test data\n",
    "y_pred = lasso_model.predict(X_test)\n",
    "\n",
    "# Evaluate the model\n",
    "mse = mean_squared_error(y_test, y_pred)\n",
    "print(\"Mean Squared Error:\", mse)\n",
    "\n",
    "# Optionally, print the coefficients\n",
    "print(\"Lasso Regression coefficients:\", lasso_model.coef_)\n"
   ]
  },
  {
   "cell_type": "code",
   "execution_count": 29,
   "id": "f746dd10-44ed-406e-b50e-9f1c6243a93d",
   "metadata": {},
   "outputs": [
    {
     "name": "stdout",
     "output_type": "stream",
     "text": [
      "True coefficients: [ 0.          0.         63.31513756 95.14033422  4.34125329 22.80797719\n",
      "  0.         81.91888594  0.         88.42064633 21.20448399 60.16118201]\n"
     ]
    }
   ],
   "source": [
    "print(\"True coefficients:\", coefficients)"
   ]
  },
  {
   "cell_type": "markdown",
   "id": "71f2dabd-2d89-4660-8ef9-e366bd0ef3d7",
   "metadata": {},
   "source": [
    "## Polynomial Regression "
   ]
  },
  {
   "cell_type": "code",
   "execution_count": 30,
   "id": "bb1c6d68-932f-4be5-92c8-425b0a1e395d",
   "metadata": {},
   "outputs": [
    {
     "name": "stdout",
     "output_type": "stream",
     "text": [
      "1 Mean Squared Error: 4.440340263308031e-26\n",
      "2 Mean Squared Error: 2113.1971602835642\n",
      "3 Mean Squared Error: 3856.025578881459\n",
      "4 Mean Squared Error: 8335.186506895845\n",
      "5 Mean Squared Error: 13722.152867429098\n",
      "6 Mean Squared Error: 17609.36805224184\n",
      "7 Mean Squared Error: 54045.366707631285\n",
      "8 Mean Squared Error: 61723.10430043525\n",
      "9 Mean Squared Error: 414384.3618531814\n",
      "10 Mean Squared Error: 652428.877242517\n"
     ]
    }
   ],
   "source": [
    "from sklearn.datasets import make_regression\n",
    "from sklearn.linear_model import LinearRegression\n",
    "from sklearn.model_selection import train_test_split\n",
    "from sklearn.preprocessing import PolynomialFeatures\n",
    "from sklearn.metrics import mean_squared_error\n",
    "from sklearn.pipeline import Pipeline\n",
    "\n",
    "\n",
    "# Split the dataset\n",
    "X_train, X_test, y_train, y_test = train_test_split(X, y, test_size=0.2, random_state=42)\n",
    "\n",
    "# Degree of the polynomial regression\n",
    "max_degree = 10  # You can change this to experiment with different degrees\n",
    "\n",
    "# Create a pipeline that first transforms the features to polynomial features, then fits a linear regression model\n",
    "for degree in range(1, max_degree + 1):\n",
    "    polynomial_regression = Pipeline([\n",
    "        (\"poly_features\", PolynomialFeatures(degree=degree)),\n",
    "        (\"lin_reg\", LinearRegression())\n",
    "    ])\n",
    "    \n",
    "    # Fit the model\n",
    "    polynomial_regression.fit(X_train, y_train)\n",
    "    \n",
    "    # Predict and evaluate the model\n",
    "    y_pred = polynomial_regression.predict(X_test)\n",
    "    mse = mean_squared_error(y_test, y_pred)\n",
    "    print(degree, \"Mean Squared Error:\", mse)\n"
   ]
  },
  {
   "cell_type": "code",
   "execution_count": null,
   "id": "0d27a1e1-22ce-4150-bc2e-1c7b8d0e2663",
   "metadata": {},
   "outputs": [],
   "source": []
  }
 ],
 "metadata": {
  "kernelspec": {
   "display_name": "Python 3 (ipykernel)",
   "language": "python",
   "name": "python3"
  },
  "language_info": {
   "codemirror_mode": {
    "name": "ipython",
    "version": 3
   },
   "file_extension": ".py",
   "mimetype": "text/x-python",
   "name": "python",
   "nbconvert_exporter": "python",
   "pygments_lexer": "ipython3",
   "version": "3.10.13"
  }
 },
 "nbformat": 4,
 "nbformat_minor": 5
}
